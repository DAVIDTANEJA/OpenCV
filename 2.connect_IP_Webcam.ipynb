{
 "cells": [
  {
   "cell_type": "code",
   "execution_count": null,
   "metadata": {},
   "outputs": [],
   "source": [
    "import requests\n",
    "import numpy as np\n",
    "import cv2\n",
    "\n",
    "\n",
    "while True:\n",
    "    images = requests.get(\"http://....../shot.jpg\")                  # copy Ip address\n",
    "    video = np.array(bytearray(images.content), dtype=np.uint8)\n",
    "    render = cv2.imdecode(video, -1)\n",
    "    cv2.imshow('frame', render)\n",
    "\n",
    "    if (cv2.waitKey(1) and 0xff==ord('q')):\n",
    "        break\n",
    "    \n",
    "\n",
    "\n",
    "\n",
    "# In android mobile phone open Play store install \"IP Webcam\" app, \n",
    "# open it and click on below 'Start server'.\n",
    "# It shows Ipv4 address : \"http........\"  , copy this and give it there in \"images\"."
   ]
  }
 ],
 "metadata": {
  "kernelspec": {
   "display_name": "Python 3",
   "language": "python",
   "name": "python3"
  },
  "language_info": {
   "codemirror_mode": {
    "name": "ipython",
    "version": 3
   },
   "file_extension": ".py",
   "mimetype": "text/x-python",
   "name": "python",
   "nbconvert_exporter": "python",
   "pygments_lexer": "ipython3",
   "version": "3.6.8"
  }
 },
 "nbformat": 4,
 "nbformat_minor": 2
}
